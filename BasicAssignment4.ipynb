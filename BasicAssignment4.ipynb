{
 "cells": [
  {
   "cell_type": "code",
   "execution_count": 1,
   "id": "fbc5360d",
   "metadata": {},
   "outputs": [
    {
     "name": "stdout",
     "output_type": "stream",
     "text": [
      "enter a number\n",
      "6\n",
      "factorial is  720\n"
     ]
    }
   ],
   "source": [
    "#1.\tWrite a Python Program to Find the Factorial of a Number?\n",
    "a=int(input('enter a number\\r'))\n",
    "b=1\n",
    "for i in range(1,a+1):\n",
    "    b=b*i\n",
    "print('factorial is ',b)"
   ]
  },
  {
   "cell_type": "code",
   "execution_count": 2,
   "id": "3d0573c3",
   "metadata": {},
   "outputs": [
    {
     "name": "stdout",
     "output_type": "stream",
     "text": [
      "enter a number of which you want a mult table\n",
      "7\n",
      "enter upto which number you want a multiplication table\n",
      "9\n",
      "7 * 1 = 7\n",
      "7 * 2 = 14\n",
      "7 * 3 = 21\n",
      "7 * 4 = 28\n",
      "7 * 5 = 35\n",
      "7 * 6 = 42\n",
      "7 * 7 = 49\n",
      "7 * 8 = 56\n",
      "7 * 9 = 63\n"
     ]
    }
   ],
   "source": [
    "#2.\tWrite a Python Program to Display the multiplication Table?\n",
    "a1=int(input('enter a number of which you want a mult table\\r'))\n",
    "b1=int(input('enter upto which number you want a multiplication table\\r'))\n",
    "for i in range(1,b1+1):\n",
    "    c=a1*i\n",
    "    print(a1,'*',i,'=',c)\n",
    "    "
   ]
  },
  {
   "cell_type": "code",
   "execution_count": 3,
   "id": "d701afde",
   "metadata": {},
   "outputs": [
    {
     "name": "stdout",
     "output_type": "stream",
     "text": [
      "enter a number upto ehich you want Fibonacci sequence\n",
      "7\n",
      "fibo sereis is=\n",
      "[0, 1, 1, 2, 3, 5, 8]\n"
     ]
    }
   ],
   "source": [
    "#3.\tWrite a Python Program to Print the Fibonacci sequence?\n",
    "a1=int(input('enter a number upto ehich you want Fibonacci sequence\\r'))\n",
    "b1=[0,1]\n",
    "if a1==1:\n",
    "    print('fibo sereis is=',b1[0])\n",
    "elif a1==2 :\n",
    "    print('fibo sereis is=')\n",
    "    for i in b1:\n",
    "        print(b1[i])\n",
    "else:\n",
    "    print('fibo sereis is=')\n",
    "    for i in range (3,a1+1):\n",
    "        c=b1[i-2]+b1[i-3]\n",
    "        b1.append(c)\n",
    "        \n",
    "    print(b1)"
   ]
  },
  {
   "cell_type": "code",
   "execution_count": 4,
   "id": "600237dd",
   "metadata": {},
   "outputs": [
    {
     "name": "stdout",
     "output_type": "stream",
     "text": [
      "enter a number \n",
      "370\n",
      "its a Armstorng number\n"
     ]
    }
   ],
   "source": [
    "#4.\tWrite a Python Program to Check Armstrong Number?\n",
    "a1=int(input('enter a number \\r'))\n",
    "x=a1\n",
    "y=0\n",
    "while x>0:\n",
    "    c=x%10\n",
    "    y=y+c**3\n",
    "    x=x//10\n",
    "\n",
    "if a1==y:\n",
    "    print('its a Armstorng number')\n",
    "else:\n",
    "    print('not an Armstrong number')"
   ]
  },
  {
   "cell_type": "code",
   "execution_count": 5,
   "id": "4c581d96",
   "metadata": {},
   "outputs": [
    {
     "name": "stdout",
     "output_type": "stream",
     "text": [
      "enter the start range\n",
      "1\n",
      "enter the end range\n",
      "410\n",
      "armstrong numbers are\n",
      " 1\n",
      " 153\n",
      " 370\n",
      " 371\n",
      " 407\n"
     ]
    }
   ],
   "source": [
    "#5.\tWrite a Python Program to Find Armstrong Number in an Interval?\n",
    "x1=int(input('enter the start range\\r'))\n",
    "x2=int(input('enter the end range\\r'))\n",
    "y=0\n",
    "print('armstrong numbers are')\n",
    "for i in range(x1,x2+1):\n",
    "    temp=i\n",
    "    while temp>0:\n",
    "        c=temp%10\n",
    "        y=y+c**3\n",
    "        temp=temp//10\n",
    "    \n",
    "    if i==y:\n",
    "        print('\\r',i)\n",
    "    y=0"
   ]
  },
  {
   "cell_type": "code",
   "execution_count": 9,
   "id": "ccdbf1c3",
   "metadata": {},
   "outputs": [
    {
     "name": "stdout",
     "output_type": "stream",
     "text": [
      "enter the number up to whiich sum iss needed\n",
      "100\n",
      "sum of the natural numbers are 5050\n"
     ]
    }
   ],
   "source": [
    "#6.\tWrite a Python Program to Find the Sum of Natural Numbers?\n",
    "a1=int(input('enter the number up to whiich sum iss needed\\r'))\n",
    "y=0\n",
    "for i in range(1,a1+1):\n",
    "    y=y+i\n",
    "print('sum of the natural numbers are',y)"
   ]
  },
  {
   "cell_type": "code",
   "execution_count": null,
   "id": "0b85439b",
   "metadata": {},
   "outputs": [],
   "source": []
  }
 ],
 "metadata": {
  "kernelspec": {
   "display_name": "Python 3 (ipykernel)",
   "language": "python",
   "name": "python3"
  },
  "language_info": {
   "codemirror_mode": {
    "name": "ipython",
    "version": 3
   },
   "file_extension": ".py",
   "mimetype": "text/x-python",
   "name": "python",
   "nbconvert_exporter": "python",
   "pygments_lexer": "ipython3",
   "version": "3.9.7"
  }
 },
 "nbformat": 4,
 "nbformat_minor": 5
}
